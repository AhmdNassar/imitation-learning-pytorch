{
 "cells": [
  {
   "cell_type": "code",
   "execution_count": null,
   "metadata": {},
   "outputs": [],
   "source": [
    "import torch\n",
    "import matplotlib.pyplot as plt\n",
    "import numpy as np\n",
    "from torch.utils.data import DataLoader\n",
    "from torchvision import transforms \n",
    "from torch import optim\n",
    "\n",
    "%load_ext autoreload\n",
    "%autoreload 3\n",
    "\n",
    "from model import CarlaNet\n",
    "from utils import visualizeImages , cost ,loss_mask  , StopEarly \n",
    "from data import AgentData , ToTensor \n"
   ]
  },
  {
   "cell_type": "markdown",
   "metadata": {},
   "source": [
    "### Set up training environment "
   ]
  },
  {
   "cell_type": "code",
   "execution_count": null,
   "metadata": {},
   "outputs": [],
   "source": [
    "batch_size = 200\n",
    "BRANCH_LOSS_WEIGHT= [0.95, 0.95, 0.95, 0.95] # how much each branch is weighted when computing loss\n",
    "# params used in loss, we will update this None values while training \n",
    "params = {\"branch_weights\":BRANCH_LOSS_WEIGHT,\\\n",
    "          # how much each of the outputs specified on TARGETS are weighted for learning.\n",
    "         \"variable_weights\":{\"Steer\":0.5,\"Gas\":0.45,\"Brake\":0.05},\\\n",
    "          # values we used them while training \n",
    "         \"branches\":None , \"targets\": None , \"controls_mask\":None}\n",
    "loss_type = \"L1\"\n",
    "model = CarlaNet().cuda()\n",
    "opt = optim.SGD(model.parameters(),lr=0.01,momentum=0.9,nesterov=True)"
   ]
  },
  {
   "cell_type": "markdown",
   "metadata": {},
   "source": [
    "## prepare Data"
   ]
  },
  {
   "cell_type": "code",
   "execution_count": null,
   "metadata": {},
   "outputs": [],
   "source": [
    "transform = transforms.Compose([ToTensor()])\n",
    "training_data = AgentData('./SeqTrain',transforms=transform)\n",
    "train_loader = DataLoader(training_data,batch_size=batch_size)\n",
    "data_iterator = iter(train_loader)"
   ]
  },
  {
   "cell_type": "code",
   "execution_count": null,
   "metadata": {},
   "outputs": [],
   "source": [
    "# info about Data \n",
    "print(f\"num of trainin samples is : {len(training_data)}\")"
   ]
  },
  {
   "cell_type": "code",
   "execution_count": null,
   "metadata": {},
   "outputs": [],
   "source": [
    "num_of_batches = len(training_data)/batch_size\n",
    "num_of_batches"
   ]
  },
  {
   "cell_type": "markdown",
   "metadata": {},
   "source": [
    "## Training"
   ]
  },
  {
   "cell_type": "code",
   "execution_count": null,
   "metadata": {},
   "outputs": [],
   "source": [
    "def train_net(n_epochs):\n",
    "\n",
    "    # prepare the net for training\n",
    "    model.train()\n",
    "\n",
    "    for epoch in range(n_epochs):  # loop over the dataset multiple times\n",
    "        \n",
    "        running_loss = 0.0\n",
    "        epoch_loss = 0.0\n",
    "        \n",
    "        # train on batches of data, assumes you already have train_loader\n",
    "        for batch_i, data in enumerate(train_loader):\n",
    "            # get inputs(img,speed,command) and targets(steer,gas,brake)\n",
    "            inputs ,targets = data\n",
    "            imgs , speed , command = inputs\n",
    "            imgs , speed , command = imgs.type(torch.cuda.FloatTensor) ,speed.type(torch.cuda.FloatTensor)\\\n",
    "                                    ,command.type(torch.cuda.LongTensor)\n",
    "            \n",
    "            speed , command = speed.view((batch_size,1)) , command.view((batch_size,1))\n",
    "            inputs = (imgs , speed , command)\n",
    "            \n",
    "            # targets \n",
    "            steer , gas , brake = targets\n",
    "            targets = torch.stack([steer,gas,brake],dim=1).cuda()\n",
    "\n",
    "            # forward pass to get outputs\n",
    "            outs = model(inputs)\n",
    "            controls_masks = loss_mask(command)\n",
    "            \n",
    "            #update params\n",
    "            params[\"branches\"] = outs\n",
    "            params[\"targets\"] = targets\n",
    "            params[\"controls_mask\"] = controls_masks\n",
    "\n",
    "            # calculate the loss between predicted and target keypoints\n",
    "            loss = cost(params=params,type_loss=loss_type)\n",
    "\n",
    "            # zero the parameter (weight) gradients\n",
    "            opt.zero_grad()\n",
    "            \n",
    "            # backward pass to calculate the weight gradients\n",
    "            loss.backward()\n",
    "\n",
    "            # update the weights\n",
    "            opt.step()\n",
    "\n",
    "            # print loss statistics\n",
    "            # to convert loss into a scalar and add it to the running_loss, use .item()\n",
    "            running_loss += loss.item()\n",
    "            epoch_loss += running_loss\n",
    "            if batch_i +1 % 100 == 0:    # print every 100 batches\n",
    "                print('Epoch: {}, Batch: {}, Avg. Loss: {}'.format(epoch + 1, batch_i+1, running_loss/100))\n",
    "                running_loss = 0.0\n",
    "        print('----------------\\nEpoch loss: {}\\n------------\\n'.format(epoch_loss/num_of_batches))\n",
    "        if stop_early(model,epoch_loss/num_of_batches) :\n",
    "            print(\"Early stop activated ... stoping training process..\")\n",
    "            break\n",
    "    print('Finished Training')"
   ]
  },
  {
   "cell_type": "code",
   "execution_count": null,
   "metadata": {},
   "outputs": [],
   "source": [
    "torch.cuda.empty_cache() # empty GPU cash "
   ]
  },
  {
   "cell_type": "code",
   "execution_count": null,
   "metadata": {},
   "outputs": [],
   "source": [
    "train_net(1) # test train with 1 iter"
   ]
  },
  {
   "cell_type": "code",
   "execution_count": null,
   "metadata": {},
   "outputs": [],
   "source": []
  }
 ],
 "metadata": {
  "kernelspec": {
   "display_name": "Python 3",
   "language": "python",
   "name": "python3"
  },
  "language_info": {
   "codemirror_mode": {
    "name": "ipython",
    "version": 3
   },
   "file_extension": ".py",
   "mimetype": "text/x-python",
   "name": "python",
   "nbconvert_exporter": "python",
   "pygments_lexer": "ipython3",
   "version": "3.6.5"
  }
 },
 "nbformat": 4,
 "nbformat_minor": 2
}
